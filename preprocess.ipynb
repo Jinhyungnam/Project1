{
  "cells": [
    {
      "cell_type": "code",
      "execution_count": 1,
      "metadata": {
        "colab": {
          "base_uri": "https://localhost:8080/",
          "height": 335,
          "resources": {
            "http://localhost:8080/nbextensions/google.colab/files.js": {
              "data": "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",
              "headers": [
                [
                  "content-type",
                  "application/javascript"
                ]
              ],
              "ok": true,
              "status": 200,
              "status_text": ""
            }
          }
        },
        "id": "COusM_t9XjWQ",
        "outputId": "1308b030-4ec0-4d3c-90a9-45db82be0a54"
      },
      "outputs": [
        {
          "output_type": "stream",
          "name": "stdout",
          "text": [
            "Looking in indexes: https://pypi.org/simple, https://us-python.pkg.dev/colab-wheels/public/simple/\n",
            "Requirement already satisfied: kaggle in /usr/local/lib/python3.7/dist-packages (1.5.12)\n",
            "Requirement already satisfied: tqdm in /usr/local/lib/python3.7/dist-packages (from kaggle) (4.64.0)\n",
            "Requirement already satisfied: requests in /usr/local/lib/python3.7/dist-packages (from kaggle) (2.23.0)\n",
            "Requirement already satisfied: urllib3 in /usr/local/lib/python3.7/dist-packages (from kaggle) (1.24.3)\n",
            "Requirement already satisfied: certifi in /usr/local/lib/python3.7/dist-packages (from kaggle) (2022.5.18.1)\n",
            "Requirement already satisfied: python-dateutil in /usr/local/lib/python3.7/dist-packages (from kaggle) (2.8.2)\n",
            "Requirement already satisfied: python-slugify in /usr/local/lib/python3.7/dist-packages (from kaggle) (6.1.2)\n",
            "Requirement already satisfied: six>=1.10 in /usr/local/lib/python3.7/dist-packages (from kaggle) (1.15.0)\n",
            "Requirement already satisfied: text-unidecode>=1.3 in /usr/local/lib/python3.7/dist-packages (from python-slugify->kaggle) (1.3)\n",
            "Requirement already satisfied: idna<3,>=2.5 in /usr/local/lib/python3.7/dist-packages (from requests->kaggle) (2.10)\n",
            "Requirement already satisfied: chardet<4,>=3.0.2 in /usr/local/lib/python3.7/dist-packages (from requests->kaggle) (3.0.4)\n"
          ]
        },
        {
          "output_type": "display_data",
          "data": {
            "text/plain": [
              "<IPython.core.display.HTML object>"
            ],
            "text/html": [
              "\n",
              "     <input type=\"file\" id=\"files-ada187ea-0167-42d3-9c04-b37b2ccb97d5\" name=\"files[]\" multiple disabled\n",
              "        style=\"border:none\" />\n",
              "     <output id=\"result-ada187ea-0167-42d3-9c04-b37b2ccb97d5\">\n",
              "      Upload widget is only available when the cell has been executed in the\n",
              "      current browser session. Please rerun this cell to enable.\n",
              "      </output>\n",
              "      <script src=\"/nbextensions/google.colab/files.js\"></script> "
            ]
          },
          "metadata": {}
        },
        {
          "output_type": "stream",
          "name": "stdout",
          "text": [
            "Saving kaggle.json to kaggle.json\n"
          ]
        },
        {
          "output_type": "execute_result",
          "data": {
            "text/plain": [
              "{'kaggle.json': b'{\"username\":\"dsdszzz\",\"key\":\"fdb5fcc330df3b6a4683c4dc90b77a94\"}'}"
            ]
          },
          "metadata": {},
          "execution_count": 1
        }
      ],
      "source": [
        "!pip install kaggle\n",
        "from google.colab import files\n",
        "files.upload()"
      ]
    },
    {
      "cell_type": "code",
      "source": [
        "ls -1ha kaggle.json"
      ],
      "metadata": {
        "colab": {
          "base_uri": "https://localhost:8080/"
        },
        "id": "106uk4hA1F4d",
        "outputId": "3a2084cc-84f5-4386-d538-7091f52aaf56"
      },
      "execution_count": 2,
      "outputs": [
        {
          "output_type": "stream",
          "name": "stdout",
          "text": [
            "kaggle.json\n"
          ]
        }
      ]
    },
    {
      "cell_type": "code",
      "execution_count": 3,
      "metadata": {
        "colab": {
          "base_uri": "https://localhost:8080/"
        },
        "id": "0cfRJSjOhNBr",
        "outputId": "4a7d3dbc-c349-478e-f609-e388271c91aa"
      },
      "outputs": [
        {
          "output_type": "stream",
          "name": "stdout",
          "text": [
            "Downloading 2022-samsung-ds-competition-co-gas-data.zip to /content\n",
            " 97% 184M/189M [00:00<00:00, 229MB/s]\n",
            "100% 189M/189M [00:00<00:00, 216MB/s]\n",
            "2022-samsung-ds-competition-co-gas-data.zip  kaggle.json  sample_data\n",
            "Archive:  2022-samsung-ds-competition-co-gas-data.zip\n",
            "  inflating: sample_solution.csv     \n",
            "  inflating: test_data.csv           \n",
            "  inflating: train_data.csv          \n"
          ]
        }
      ],
      "source": [
        "!mkdir -p ~/.kaggle\n",
        "!cp kaggle.json ~/.kaggle/\n",
        "# Permission Warning 이 일어나지 않도록 \n",
        "!chmod 600 ~/.kaggle/kaggle.json\n",
        "!kaggle competitions download -c 2022-samsung-ds-competition-co-gas-data\n",
        "!ls\n",
        "!unzip 2022-samsung-ds-competition-co-gas-data.zip"
      ]
    },
    {
      "cell_type": "code",
      "execution_count": 4,
      "metadata": {
        "id": "oaidPOe7h3Q5"
      },
      "outputs": [],
      "source": [
        "# This Python 3 environment comes with many helpful analytics libraries installed\n",
        "# It is defined by the kaggle/python Docker image: https://github.com/kaggle/docker-python\n",
        "# For example, here's several helpful packages to load\n",
        "\n",
        "import numpy as np # linear algebra\n",
        "import pandas as pd # data processing, CSV file I/O (e.g. pd.read_csv)\n",
        "import xgboost as xgb\n",
        "from sklearn.metrics import mean_squared_error\n",
        "from sklearn.metrics import mean_absolute_error\n",
        "from sklearn.multioutput import MultiOutputRegressor\n",
        "from sklearn.model_selection import train_test_split\n",
        "from sklearn.ensemble import (RandomForestRegressor, GradientBoostingRegressor, \n",
        "                              AdaBoostRegressor)\n",
        "from sklearn.linear_model import LinearRegression\n",
        "\n",
        "# Input data files are available in the read-only \"../input/\" directory\n",
        "# For example, running this (by clicking run or pressing Shift+Enter) will list all files under the input directory\n",
        "\n",
        "import os\n",
        "for dirname, _, filenames in os.walk('/kaggle/input'):\n",
        "    for filename in filenames:\n",
        "        print(os.path.join(dirname, filename))\n",
        "\n",
        "# You can write up to 20GB to the current directory (/kaggle/working/) that gets preserved as output when you create a version using \"Save & Run All\" \n",
        "# You can also write temporary files to /kaggle/temp/, but they won't be saved outside of the current session"
      ]
    },
    {
      "cell_type": "code",
      "source": [
        "import xgboost as xgb\n",
        "\n",
        "import pandas as pd\n",
        "import os\n",
        "        \n",
        "from sklearn.model_selection import train_test_split\n",
        "from sklearn.preprocessing import StandardScaler\n",
        "from sklearn.metrics import mean_squared_error, r2_score, mean_absolute_error, classification_report\n",
        "from sklearn.model_selection import KFold, cross_val_score\n",
        "\n",
        "from sklearn.linear_model import LinearRegression, Ridge, Lasso, LogisticRegression\n",
        "from sklearn.neighbors import KNeighborsRegressor\n",
        "from sklearn.tree import DecisionTreeRegressor\n",
        "from sklearn.ensemble import (RandomForestRegressor, GradientBoostingRegressor, \n",
        "                              AdaBoostRegressor)\n",
        "\n",
        "import numpy as np\n",
        "\n",
        "from scipy.signal import butter, filtfilt"
      ],
      "metadata": {
        "id": "XO8gQ5Zi2pDC"
      },
      "execution_count": 5,
      "outputs": []
    },
    {
      "cell_type": "code",
      "source": [
        "# regression models\n",
        "\n",
        "def xgb_regression():\n",
        "    multioutputregressor = xgb.XGBRegressor(objective='reg:squarederror', colsample_bytree = 0.3, learning_rate = 0.1,\n",
        "                    max_depth = 5, alpha = 10, n_estimators = 10)\n",
        "    return multioutputregressor\n",
        "    \n",
        "def random_forest_regression():\n",
        "    multioutputregressor = RandomForestRegressor(n_estimators = 10, max_depth = 5, criterion = 'absolute_error', n_jobs = -1, random_state = 0)\n",
        "    return multioutputregressor\n",
        "\n",
        "def linear_regression():\n",
        "    multioutputregressor = LinearRegression(n_jobs = -1)\n",
        "    return multioutputregressor\n",
        "\n",
        "def ridge_regression():\n",
        "    multioutputregressor = Ridge(random_state = 0)\n",
        "    return multioutputregressor\n",
        "\n",
        "def lasso_regression():\n",
        "    multioutputregressor = Lasso(random_state = 0)\n",
        "    return multioutputregressor\n",
        "\n",
        "def kneighbors_regression():\n",
        "    multioutputregressor = KNeighborsRegressor(random_state = 0)\n",
        "    return multioutputregressor\n",
        "\n",
        "def decisiontree_regression():\n",
        "    multioutputregressor = DecisionTreeRegressor(random_state = 0)\n",
        "    return multioutputregressor\n",
        "\n",
        "def gb_regression():\n",
        "    multioutputregressor = GradientBoostingRegressor(random_state = 0)\n",
        "    return multioutputregressor\n",
        "\n",
        "def ab_regression():\n",
        "    multioutputregressor = AdaBoostRegressor(random_state = 0)\n",
        "    return multioutputregressor"
      ],
      "metadata": {
        "id": "fU-EDmEq2hQq"
      },
      "execution_count": 6,
      "outputs": []
    },
    {
      "cell_type": "code",
      "source": [
        "def post_process_pred_ver1(y_pred):\n",
        "    y_pred = np.where(y_pred < 0, 0, y_pred)\n",
        "    y_pred = np.where(y_pred > 533.33, 533.33, y_pred)\n",
        "    return y_pred\n",
        "\n",
        "def post_process_pred_ver2(y_pred, y_class_val_list):\n",
        "    \"\"\"\n",
        "    use 'train_y' for 'y_class_val_list'\n",
        "    \"\"\"\n",
        "    y_cls = np.sort(np.unique(y_class_val_list))\n",
        "    y_cls_mid = [(y_cls[i] + y_cls[i + 1])/2 for i in range(len(y_cls) - 1)]\n",
        "    y_pred_mapped = y_cls[np.searchsorted(y_cls_mid, y_pred)]\n",
        "    return y_pred_mapped\n",
        "\n",
        "def post_process_pred_ver3(y_pred, y_class_val_list):\n",
        "    \"\"\"\n",
        "    use 'train_y' for 'y_class_val_list'\n",
        "    \"\"\"\n",
        "    y_cls = np.sort(np.unique(y_class_val_list))\n",
        "    y_cls_mid = [(y_cls[i] + y_cls[i + 1])/2 for i in range(len(y_cls) - 1)]\n",
        "    y_cls_mid[0] = 150\n",
        "    y_pred_mapped = y_cls[np.searchsorted(y_cls_mid, y_pred)]\n",
        "    return y_pred_mapped\n",
        "\n",
        "class Y_PRED_CLASSIFIER:\n",
        "    def __init__(self, y_pred, y_real):\n",
        "        self.y_pred_clf = self.create_y_pred_clf(y_pred, y_real)\n",
        "\n",
        "    def create_y_pred_clf(self, y_pred, y_real):\n",
        "        \"\"\"\n",
        "        \"\"\"\n",
        "        from sklearn.naive_bayes import GaussianNB\n",
        "        y_pred_clf = GaussianNB().fit(y_pred.reshape(-1, 1), y_real.astype(str))\n",
        "        return y_pred_clf\n",
        "\n",
        "    def post_process_pred_ver4(self, y_pred):\n",
        "        \"\"\"\n",
        "        y_pred_clf = create_y_pred_clf(y_pred, y_real):\n",
        "        \"\"\"\n",
        "        y_pred_mapped = self.y_pred_clf.predict(y_pred.reshape(-1, 1)).astype(float)\n",
        "        return y_pred_mapped\n",
        "\n",
        "def get_mae(y_true, y_pred):\n",
        "    return mean_absolute_error(y_true=y_true, y_pred=y_pred)"
      ],
      "metadata": {
        "id": "NPf951gqEtry"
      },
      "execution_count": 87,
      "outputs": []
    },
    {
      "cell_type": "code",
      "source": [
        "# PRE-PROCESSING  __ GET DATA\n",
        "\n",
        "def preprocess_x(mode: int, _training_data: pd.DataFrame, _test_input_data: pd.DataFrame, scaling=True):\n",
        "    \"\"\"\n",
        "    0. 전처리 X\n",
        "    1. 초기값(1000) 제거 \n",
        "    2. Data Shift(2000)\n",
        "    3. filtering butter(4, 1/(100/2))\n",
        "    4. 컬럼 선택(s2제거)\n",
        "    \"\"\"\n",
        "    training_data = _training_data.copy()\n",
        "    test_input_data = _test_input_data.copy()\n",
        "\n",
        "    if mode == 0:\n",
        "        train_x = np.array(training_data.values[:,3:], dtype=np.float64)\n",
        "        train_y = np.array(training_data.values[:,2], dtype=np.float64)\n",
        "        test_x = np.array(test_input_data.values[:,2:], dtype=np.float64)\n",
        "\n",
        "    elif mode == 1: #\n",
        "        train_x = np.array(training_data.values[1000:,3:], dtype=np.float64)\n",
        "        train_y = np.array(training_data.values[1000:,2], dtype=np.float64)\n",
        "        test_x = np.array(test_input_data.values[:,2:], dtype=np.float64)\n",
        "\n",
        "    elif mode == 2: #\n",
        "        for s in range(1,17):\n",
        "            training_data['shf_s{}'.format(s)] = training_data['s{}'.format(s)].shift(-2000)\n",
        "            test_input_data['shf_s{}'.format(s)] = test_input_data['s{}'.format(s)].shift(-2000)\n",
        "        training_data = training_data.dropna()\n",
        "        test_input_data = test_input_data.dropna()\n",
        "        train_x = np.array(training_data.values[:,19:], dtype=np.float64)\n",
        "        train_y = np.array(training_data.values[:,2], dtype=np.float64)\n",
        "        test_x = np.array(test_input_data.values[:,18:], dtype=np.float64)\n",
        "\n",
        "    elif mode == 3: # filtering ? \n",
        "        b, a = butter(4, 1/(100/2), btype='low', analog=False)  # fs = 100 Hz, fc = 1 Hz\n",
        "        train_x = np.array([filtfilt(b, a, training_data[col_name].to_numpy()) for col_name in training_data.columns[3:]]).T\n",
        "        train_y = np.array(training_data.values[:,2], dtype=np.float64)\n",
        "        test_x = np.array([filtfilt(b, a, test_input_data[col_name].to_numpy()) for col_name in test_input_data.columns[2:]]).T\n",
        "\n",
        "    elif mode == 4:\n",
        "        # cols = ['s1', 's2', 's3', 's4', 's5', 's6', 's7', 's8', 's9', 's10', 's11', 's12', 's13', 's14', 's15', 's16']\n",
        "        # cols = ['s1', 's9', 's11', 's13', 's15']\n",
        "        cols = ['s1',\n",
        "                # 's2', \n",
        "                's3', 's4', 's5', 's6', 's7', 's8', 's9', 's10', 's11', 's12', 's13', 's14', 's15', 's16']\n",
        "        \n",
        "        train_x = np.array(training_data[cols].values, dtype=np.float64)\n",
        "        train_y = np.array(training_data['CO'].values, dtype=np.float64)\n",
        "        test_x = np.array(test_input_data[cols].values, dtype=np.float64)\n",
        "    \n",
        "    elif mode == 5: # Finally selected preprocessing\n",
        "        for s in range(1,17):\n",
        "            training_data['shf_s{}'.format(s)] = training_data['s{}'.format(s)].shift(-2000)\n",
        "            test_input_data['shf_s{}'.format(s)] = test_input_data['s{}'.format(s)].shift(-2000)\n",
        "        training_data = training_data.dropna()\n",
        "        test_input_data = test_input_data.dropna()\n",
        "        train_x = np.array(training_data.values[:,19:], dtype=np.float64)\n",
        "        train_y = np.array(training_data.values[:,2], dtype=np.float64)\n",
        "        test_x = np.array(test_input_data.values[:,18:], dtype=np.float64)\n",
        "\n",
        "        b, a = butter(4, 1/(100/2), btype='low', analog=False)  # fs = 100 Hz, fc = 1 Hz\n",
        "        temp_train_x = np.array([filtfilt(b, a, train_x[:,i]) for i in range(len(train_x[0]))]).T\n",
        "        temp_test_x = np.array([filtfilt(b, a, test_x[:,i]) for i in range(len(test_x[0]))]).T\n",
        "\n",
        "        train_x = temp_train_x\n",
        "        test_x = temp_test_x\n",
        "\n",
        "    if scaling:\n",
        "        scaler = StandardScaler().fit(train_x)\n",
        "        train_x = scaler.transform(train_x)\n",
        "        test_x = scaler.transform(test_x)\n",
        "\n",
        "    return train_x, train_y, test_x"
      ],
      "metadata": {
        "id": "Y0ikr_l9EQS2"
      },
      "execution_count": 79,
      "outputs": []
    },
    {
      "cell_type": "code",
      "source": [
        "# POST-PROCESSING  __ Evaluate model\n",
        "\n",
        "# def evaluate_model_after_postprocessing(mode: int, model, X_train, X_test, y_train, y_test, skip_training = True):\n",
        "#     if not skip_training: \n",
        "#         model.fit(X_train, y_train)\n",
        "\n",
        "#     y_pred = model.predict(X_test)\n",
        "#     if mode == 0: # without post-processing\n",
        "#         pass\n",
        "#     elif mode == 1: # change negative val into '0' \n",
        "#         y_pred = post_process_pred_ver1(y_pred)\n",
        "#     elif mode == 2: # mapping predicted val to the closedt class\n",
        "#         y_pred = post_process_pred_ver2(y_pred, np.concatenate([train_y, y_train]))\n",
        "#     elif mode == 3: # change threshold; CLASS '0'\n",
        "#         y_pred = post_process_pred_ver3(y_pred, np.concatenate([train_y, y_train]))\n",
        "#     elif mode == 4: # use Gaussian Naive Bayes \n",
        "#         y_pred_clf = Y_PRED_CLASSIFIER(model.predict(X_train), y_train)\n",
        "#         y_pred = y_pred_clf.post_process_pred_ver4(y_pred)\n",
        "#     mae = get_mae(y_test, y_pred)\n",
        "#     return mae\n",
        "\n",
        "def evaluate_model_after_postprocessing(mode: int, model, X_train, X_test, y_train, skip_training = True):\n",
        "    if not skip_training: \n",
        "        model.fit(X_train, y_train)\n",
        "\n",
        "    y_pred = model.predict(X_test)\n",
        "    if mode == 0: # without post-processing\n",
        "        pass\n",
        "    elif mode == 1: # change negative val into '0' \n",
        "        y_pred = post_process_pred_ver1(y_pred)\n",
        "    elif mode == 2: # mapping predicted val to the closedt class\n",
        "        y_pred = post_process_pred_ver2(y_pred, np.concatenate([train_y, y_train]))\n",
        "    elif mode == 3: # change threshold; CLASS '0'\n",
        "        y_pred = post_process_pred_ver3(y_pred, np.concatenate([train_y, y_train]))\n",
        "    elif mode == 4: # use Gaussian Naive Bayes \n",
        "        y_pred_clf = Y_PRED_CLASSIFIER(model.predict(X_train), y_train)\n",
        "        y_pred = y_pred_clf.post_process_pred_ver4(y_pred)\n",
        "    \n",
        "    return y_pred"
      ],
      "metadata": {
        "id": "oR_uo5rD2q3u"
      },
      "execution_count": 88,
      "outputs": []
    },
    {
      "cell_type": "code",
      "source": [
        ""
      ],
      "metadata": {
        "id": "cOdO2k1z4eRv"
      },
      "execution_count": null,
      "outputs": []
    },
    {
      "cell_type": "markdown",
      "source": [
        "## Preprocessing Performance with Linear Regressor"
      ],
      "metadata": {
        "id": "u5P2RPXMILzD"
      }
    },
    {
      "cell_type": "code",
      "source": [
        "\"\"\"\n",
        "0. 전처리 X\n",
        "1. 초기값(1000) 제거 \n",
        "2. Data Shift(2000)\n",
        "3. filtering butter(4, 1/(100/2))\n",
        "4. 컬럼 선택(s2제거)\n",
        "\"\"\"\n",
        "training_data = pd.read_csv('train_data.csv')\n",
        "test_input_data = pd.read_csv('test_data.csv')\n",
        "\n",
        "train_x, train_y, test_x = preprocess_x(5, training_data, test_input_data)\n",
        "model = linear_regression()\n",
        "\n",
        "\"\"\"\n",
        "0. without post-processing\n",
        "1. change negative val into '0' \n",
        "2. mapping predicted val to the closedt class\n",
        "3. change threshold; CLASS '0'\n",
        "4. use Gaussian Naive Bayes \n",
        "\"\"\"\n",
        "y_pred_train = evaluate_model_after_postprocessing(4, model, train_x, train_x, train_y, skip_training=False)\n",
        "y_pred_test = evaluate_model_after_postprocessing(4, model, train_x, test_x, train_y, skip_training=False)\n",
        "mae = get_mae(train_y, y_pred_train)\n",
        "print(f'score = {mae}')"
      ],
      "metadata": {
        "id": "uK7bcQXNEKFU",
        "colab": {
          "base_uri": "https://localhost:8080/"
        },
        "outputId": "8e7a51db-27a7-49af-bd35-9487e7ae95b1"
      },
      "execution_count": 96,
      "outputs": [
        {
          "output_type": "stream",
          "name": "stdout",
          "text": [
            "score = 16.515119101541703\n"
          ]
        }
      ]
    },
    {
      "cell_type": "code",
      "source": [
        "sample_submission = pd.read_csv('sample_solution.csv')\n",
        "pred_test_padded = np.pad(y_pred_test, (0,sample_submission.shape[0]-y_pred_test.shape[0]), 'constant', constant_values=0)\n",
        "sample_submission['CO'] = pred_test_padded\n",
        "sample_submission.to_csv('predicted_output.csv', index=False) \n",
        "\n",
        "import matplotlib.pyplot as plt\n",
        "plt.hist(pred_test_padded)"
      ],
      "metadata": {
        "id": "5onFHdL5JtuD",
        "colab": {
          "base_uri": "https://localhost:8080/",
          "height": 357
        },
        "outputId": "7ff9c50d-9f3c-459b-b0d8-5ad13c172280"
      },
      "execution_count": 97,
      "outputs": [
        {
          "output_type": "execute_result",
          "data": {
            "text/plain": [
              "(array([5.22869e+05, 0.00000e+00, 0.00000e+00, 0.00000e+00, 1.70142e+05,\n",
              "        1.09224e+05, 2.20770e+04, 0.00000e+00, 4.53000e+02, 1.68880e+04]),\n",
              " array([  0.   ,  53.333, 106.666, 159.999, 213.332, 266.665, 319.998,\n",
              "        373.331, 426.664, 479.997, 533.33 ]),\n",
              " <a list of 10 Patch objects>)"
            ]
          },
          "metadata": {},
          "execution_count": 97
        },
        {
          "output_type": "display_data",
          "data": {
            "text/plain": [
              "<Figure size 432x288 with 1 Axes>"
            ],
            "image/png": "[encoded data removed]"
          },
          "metadata": {
            "needs_background": "light"
          }
        }
      ]
    },
    {
      "cell_type": "code",
      "source": [
        "!kaggle competitions submit -c 2022-samsung-ds-competition-co-gas-data -f predicted_output.csv -m \"Test\""
      ],
      "metadata": {
        "id": "v1eFxlzCJyCs",
        "colab": {
          "base_uri": "https://localhost:8080/"
        },
        "outputId": "1bcb5990-6820-42c5-c206-17c6ff753524"
      },
      "execution_count": 98,
      "outputs": [
        {
          "output_type": "stream",
          "name": "stdout",
          "text": [
            "100% 10.4M/10.4M [00:02<00:00, 5.02MB/s]\n",
            "Successfully submitted to 2022 Samsung DS competition - CO gas data"
          ]
        }
      ]
    }
  ],
  "metadata": {
    "accelerator": "GPU",
    "colab": {
      "machine_shape": "hm",
      "name": "preprocess.ipynb",
      "provenance": [],
      "collapsed_sections": []
    },
    "kernelspec": {
      "display_name": "Python 3",
      "name": "python3"
    }
  },
  "nbformat": 4,
  "nbformat_minor": 0
}