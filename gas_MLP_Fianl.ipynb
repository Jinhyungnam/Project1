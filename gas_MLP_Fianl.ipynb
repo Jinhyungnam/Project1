{
  "cells": [
    {
      "cell_type": "markdown",
      "metadata": {
        "id": "view-in-github",
        "colab_type": "text"
      },
      "source": [
        "<a href=\"https://colab.research.google.com/github/Jinhyungnam/Project1/blob/main/gas_MLP_Fianl.ipynb\" target=\"_parent\"><img src=\"https://colab.research.google.com/assets/colab-badge.svg\" alt=\"Open In Colab\"/></a>"
      ]
    },
    {
      "cell_type": "code",
      "execution_count": null,
      "metadata": {
        "colab": {
          "base_uri": "https://localhost:8080/",
          "height": 335,
          "resources": {
            "http://localhost:8080/nbextensions/google.colab/files.js": {
              "data": "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",
              "headers": [
                [
                  "content-type",
                  "application/javascript"
                ]
              ],
              "ok": true,
              "status": 200,
              "status_text": ""
            }
          }
        },
        "id": "COusM_t9XjWQ",
        "outputId": "93d0cd61-941e-4889-f2ea-3bd0ebf2528d"
      },
      "outputs": [
        {
          "output_type": "stream",
          "name": "stdout",
          "text": [
            "Looking in indexes: https://pypi.org/simple, https://us-python.pkg.dev/colab-wheels/public/simple/\n",
            "Requirement already satisfied: kaggle in /usr/local/lib/python3.7/dist-packages (1.5.12)\n",
            "Requirement already satisfied: python-dateutil in /usr/local/lib/python3.7/dist-packages (from kaggle) (2.8.2)\n",
            "Requirement already satisfied: urllib3 in /usr/local/lib/python3.7/dist-packages (from kaggle) (1.24.3)\n",
            "Requirement already satisfied: certifi in /usr/local/lib/python3.7/dist-packages (from kaggle) (2022.5.18.1)\n",
            "Requirement already satisfied: tqdm in /usr/local/lib/python3.7/dist-packages (from kaggle) (4.64.0)\n",
            "Requirement already satisfied: requests in /usr/local/lib/python3.7/dist-packages (from kaggle) (2.23.0)\n",
            "Requirement already satisfied: six>=1.10 in /usr/local/lib/python3.7/dist-packages (from kaggle) (1.15.0)\n",
            "Requirement already satisfied: python-slugify in /usr/local/lib/python3.7/dist-packages (from kaggle) (6.1.2)\n",
            "Requirement already satisfied: text-unidecode>=1.3 in /usr/local/lib/python3.7/dist-packages (from python-slugify->kaggle) (1.3)\n",
            "Requirement already satisfied: chardet<4,>=3.0.2 in /usr/local/lib/python3.7/dist-packages (from requests->kaggle) (3.0.4)\n",
            "Requirement already satisfied: idna<3,>=2.5 in /usr/local/lib/python3.7/dist-packages (from requests->kaggle) (2.10)\n"
          ]
        },
        {
          "output_type": "display_data",
          "data": {
            "text/plain": [
              "<IPython.core.display.HTML object>"
            ],
            "text/html": [
              "\n",
              "     <input type=\"file\" id=\"files-c71620bd-8332-4c8e-a1f4-bd38b6287eca\" name=\"files[]\" multiple disabled\n",
              "        style=\"border:none\" />\n",
              "     <output id=\"result-c71620bd-8332-4c8e-a1f4-bd38b6287eca\">\n",
              "      Upload widget is only available when the cell has been executed in the\n",
              "      current browser session. Please rerun this cell to enable.\n",
              "      </output>\n",
              "      <script src=\"/nbextensions/google.colab/files.js\"></script> "
            ]
          },
          "metadata": {}
        },
        {
          "output_type": "stream",
          "name": "stdout",
          "text": [
            "Saving kaggle.json to kaggle (1).json\n"
          ]
        },
        {
          "output_type": "execute_result",
          "data": {
            "text/plain": [
              "{'kaggle.json': b'{\"username\":\"dsdszzz\",\"key\":\"fdb5fcc330df3b6a4683c4dc90b77a94\"}'}"
            ]
          },
          "metadata": {},
          "execution_count": 1
        }
      ],
      "source": [
        "!pip install kaggle\n",
        "from google.colab import files\n",
        "files.upload()"
      ]
    },
    {
      "cell_type": "code",
      "execution_count": null,
      "metadata": {
        "colab": {
          "base_uri": "https://localhost:8080/"
        },
        "id": "0cfRJSjOhNBr",
        "outputId": "00a185e7-bd16-4925-a8b9-779050b60321"
      },
      "outputs": [
        {
          "output_type": "stream",
          "name": "stdout",
          "text": [
            "kaggle.json\n"
          ]
        }
      ],
      "source": [
        "ls -1ha kaggle.json"
      ]
    },
    {
      "cell_type": "code",
      "execution_count": null,
      "metadata": {
        "id": "Vzggp1_ehOLu"
      },
      "outputs": [],
      "source": [
        "!mkdir -p ~/.kaggle\n",
        "!cp kaggle.json ~/.kaggle/\n",
        "# Permission Warning 이 일어나지 않도록 \n",
        "!chmod 600 ~/.kaggle/kaggle.json"
      ]
    },
    {
      "cell_type": "code",
      "execution_count": null,
      "metadata": {
        "colab": {
          "base_uri": "https://localhost:8080/"
        },
        "id": "ggPBXZELhasX",
        "outputId": "8926c8d1-4ec8-4eb3-c2c6-e23950aaa474"
      },
      "outputs": [
        {
          "output_type": "stream",
          "name": "stdout",
          "text": [
            "2022-samsung-ds-competition-co-gas-data.zip: Skipping, found more recently modified local copy (use --force to force download)\n"
          ]
        }
      ],
      "source": [
        "!kaggle competitions download -c 2022-samsung-ds-competition-co-gas-data"
      ]
    },
    {
      "cell_type": "code",
      "execution_count": null,
      "metadata": {
        "colab": {
          "base_uri": "https://localhost:8080/"
        },
        "id": "imp4susnhjEd",
        "outputId": "45b5f91c-cd13-457e-c086-dc3dd170e29e"
      },
      "outputs": [
        {
          "output_type": "stream",
          "name": "stdout",
          "text": [
            " 2022-samsung-ds-competition-co-gas-data.zip   sample_solution.csv\n",
            "'kaggle (1).json'\t\t\t       test_data.csv\n",
            " kaggle.json\t\t\t\t       tmp_checkpoint_mlp_train_shft.h5\n",
            " predicted_output.csv\t\t\t       train_data.csv\n",
            " sample_data\n"
          ]
        }
      ],
      "source": [
        "!ls"
      ]
    },
    {
      "cell_type": "code",
      "execution_count": null,
      "metadata": {
        "colab": {
          "base_uri": "https://localhost:8080/"
        },
        "id": "V3ftevCuiDaw",
        "outputId": "a7495fb3-7067-46e2-fa3f-b8aa81a50e9b"
      },
      "outputs": [
        {
          "output_type": "stream",
          "name": "stdout",
          "text": [
            "Archive:  2022-samsung-ds-competition-co-gas-data.zip\n",
            "replace sample_solution.csv? [y]es, [n]o, [A]ll, [N]one, [r]ename: n\n",
            "replace test_data.csv? [y]es, [n]o, [A]ll, [N]one, [r]ename: n\n",
            "replace train_data.csv? [y]es, [n]o, [A]ll, [N]one, [r]ename: n\n"
          ]
        }
      ],
      "source": [
        "!unzip 2022-samsung-ds-competition-co-gas-data.zip"
      ]
    },
    {
      "cell_type": "code",
      "execution_count": null,
      "metadata": {
        "id": "oaidPOe7h3Q5"
      },
      "outputs": [],
      "source": [
        "# This Python 3 environment comes with many helpful analytics libraries installed\n",
        "# It is defined by the kaggle/python Docker image: https://github.com/kaggle/docker-python\n",
        "# For example, here's several helpful packages to load\n",
        "\n",
        "import numpy as np # linear algebra\n",
        "import pandas as pd # data processing, CSV file I/O (e.g. pd.read_csv)\n",
        "import xgboost as xgb\n",
        "from sklearn.metrics import mean_squared_error\n",
        "from sklearn.metrics import mean_absolute_error\n",
        "from sklearn.multioutput import MultiOutputRegressor\n",
        "from sklearn.model_selection import train_test_split\n",
        "from sklearn.ensemble import (RandomForestRegressor, GradientBoostingRegressor, \n",
        "                              AdaBoostRegressor)\n",
        "from sklearn.linear_model import LinearRegression\n",
        "\n",
        "# Input data files are available in the read-only \"../input/\" directory\n",
        "# For example, running this (by clicking run or pressing Shift+Enter) will list all files under the input directory\n",
        "\n",
        "import os\n",
        "for dirname, _, filenames in os.walk('/kaggle/input'):\n",
        "    for filename in filenames:\n",
        "        print(os.path.join(dirname, filename))\n",
        "\n",
        "# You can write up to 20GB to the current directory (/kaggle/working/) that gets preserved as output when you create a version using \"Save & Run All\" \n",
        "# You can also write temporary files to /kaggle/temp/, but they won't be saved outside of the current session"
      ]
    },
    {
      "cell_type": "code",
      "execution_count": null,
      "metadata": {
        "id": "TfdkTsuSh49_"
      },
      "outputs": [],
      "source": [
        "training_data = pd.read_csv('train_data.csv')\n",
        "test_input_data = pd.read_csv('test_data.csv')"
      ]
    },
    {
      "cell_type": "code",
      "execution_count": null,
      "metadata": {
        "id": "jsf22CX12XyQ"
      },
      "outputs": [],
      "source": [
        "# Column Selection\n",
        "cols = ['s1', 's2', 's3', 's4', 's5', 's6', 's7', 's8', 's9', 's10', 's11', 's12', 's13', 's14', 's15', 's16']\n",
        "# cols = ['s9', 's11', 's13', 's15']\n",
        "# cols = ['s1', 's9', 's11', 's13', 's15']\n",
        "# cols = ['s1', 's3', 's4', 's5', 's6', 's7', 's8', 's9', 's10', 's11', 's12', 's13', 's14', 's15', 's16']"
      ]
    },
    {
      "cell_type": "code",
      "execution_count": null,
      "metadata": {
        "id": "VbSBH_ju17Fu"
      },
      "outputs": [],
      "source": [
        "# Signal shift\n",
        "for s in cols:\n",
        "    training_data['shf_{}'.format(s)] = training_data['{}'.format(s)].shift(-2000)\n",
        "    test_input_data['shf_{}'.format(s)] = test_input_data['{}'.format(s)].shift(-2000)\n",
        "training_data = training_data.dropna()\n",
        "test_input_data = test_input_data.fillna(0)"
      ]
    },
    {
      "cell_type": "code",
      "execution_count": null,
      "metadata": {
        "id": "bvcoUqf6iQiN"
      },
      "outputs": [],
      "source": [
        "train_x = np.array(training_data.values[:,19:], dtype=np.float64)\n",
        "train_y = np.array(training_data.values[:,2], dtype=np.float64)\n",
        "test_x = np.array(test_input_data.values[:,18:], dtype=np.float64)\n",
        "# test_x = np.array(test_input_data.values[:,2:], dtype=np.float64)"
      ]
    },
    {
      "cell_type": "code",
      "execution_count": null,
      "metadata": {
        "id": "m91CeGhT_px3"
      },
      "outputs": [],
      "source": [
        "# def arr_agg_by_sliding_window(arr: np.ndarray, _agg_func: str, window_size):\n",
        "#     \"\"\"\n",
        "#     MIN    | 'min'\n",
        "#     MAX    | 'max'\n",
        "#     MEDIAN | 'med'\n",
        "#     MEAN   | 'avg'\n",
        "#     \"\"\"\n",
        "#     from scipy.ndimage.filters import (minimum_filter, maximum_filter, median_filter)\n",
        "#     # from scipy.ndimage import uniform_filter # \n",
        "\n",
        "#     if _agg_func in ('min', 'max', 'med'):\n",
        "#         if _agg_func == 'min': agg_func = minimum_filter\n",
        "#         if _agg_func == 'max': agg_func = maximum_filter\n",
        "#         if _agg_func == 'med': agg_func = median_filter\n",
        "#         dim_a = len(arr.shape)\n",
        "#         N, M = 1, window_size\n",
        "#         if dim_a == 1:\n",
        "#             P, Q = len(arr), 1\n",
        "#             maxs = agg_func(arr.reshape((-1, 1)), size=(M, N))\n",
        "#         elif dim_a == 2:\n",
        "#             P,Q = arr.shape\n",
        "#             maxs = agg_func(arr, size=(M, N))\n",
        "#         ret = maxs[M//2:(M//2)+P-M+1, N//2:(N//2)+Q-N+1]\n",
        "        \n",
        "#         if dim_a == 1:\n",
        "#             return ret.reshape((-1))\n",
        "#         if dim_a == 2:\n",
        "#             ret = np.pad(ret, ((0,arr.shape[0]-ret.shape[0]),(0,0)), 'constant', constant_values=0)\n",
        "#             return ret\n",
        "    \n",
        "#     else: # moving average\n",
        "#         import bottleneck as bn\n",
        "#         ret = bn.move_mean(arr, window = window_size, axis=0)[window_size-1:]\n",
        "#         ret = np.pad(ret, ((0,arr.shape[0]-ret.shape[0]),(0,0)), 'constant', constant_values=0)\n",
        "#         return ret\n",
        "\n",
        "# # a = np.random.randint(1, 23, size=(6,4))\n",
        "# # print(a)\n",
        "# # aa = arr_agg_by_sliding_window(a, 'aaa', 3)\n",
        "# # aa"
      ]
    },
    {
      "cell_type": "code",
      "execution_count": null,
      "metadata": {
        "id": "x32F5WkkARzW"
      },
      "outputs": [],
      "source": [
        "# interval = 10 #10\n",
        "# # train_x_min = arr_agg_by_sliding_window(train_x, 'min', interval)\n",
        "# # train_x_max = arr_agg_by_sliding_window(train_x, 'max', interval)\n",
        "# # train_x_med = arr_agg_by_sliding_window(train_x, 'med', interval)\n",
        "# train_x_avg = arr_agg_by_sliding_window(train_x, 'avg', interval)\n",
        "\n",
        "# train_x = np.concatenate([train_x, train_x_avg],1)\n",
        "# # train_x = np.concatenate([train_x, train_x_min, train_x_max, train_x_med, train_x_avg],1)"
      ]
    },
    {
      "cell_type": "code",
      "execution_count": null,
      "metadata": {
        "id": "6TWghNzcG164"
      },
      "outputs": [],
      "source": [
        "\n",
        "# test_x_min = arr_agg_by_sliding_window(test_x, 'min', interval)\n",
        "# test_x_max = arr_agg_by_sliding_window(test_x, 'max', interval)\n",
        "# test_x_med = arr_agg_by_sliding_window(test_x, 'med', interval)\n",
        "# test_x_avg = arr_agg_by_sliding_window(test_x, 'avg', interval)\n",
        "\n",
        "# test_x = np.concatenate([test_x, test_x_avg],1)\n",
        "\n",
        "# test_x = np.concatenate([test_x, test_x_min, test_x_max, test_x_med, test_x_avg],1)"
      ]
    },
    {
      "cell_type": "code",
      "execution_count": null,
      "metadata": {
        "id": "cEpV2bKuHMak"
      },
      "outputs": [],
      "source": [
        "# test_x.shape"
      ]
    },
    {
      "cell_type": "code",
      "execution_count": null,
      "metadata": {
        "id": "3LZJi35dt-0O"
      },
      "outputs": [],
      "source": [
        "# Signal Filter\n",
        "from scipy.signal import butter, filtfilt, square\n",
        "import matplotlib.pyplot as plt\n",
        "\n",
        "b, a = butter(4, 1/(100/2), btype='low', analog=False)  # fs = 100 Hz, fc = 1 Hz\n",
        "filt_train_data = np.array([filtfilt(b, a, train_x[:,i]) for i in range(len(train_x[0]))]).T\n",
        "train_x = filt_train_data\n",
        "filt_test_data = np.array([filtfilt(b, a, test_x[:,i]) for i in range(len(test_x[0]))]).T\n",
        "test_x = filt_test_data"
      ]
    },
    {
      "cell_type": "code",
      "execution_count": null,
      "metadata": {
        "id": "9y3g0-yvaEc-"
      },
      "outputs": [],
      "source": [
        "train_x_grad = np.diff(train_x, axis=0)\n",
        "train_x_grad = np.concatenate([train_x_grad, train_x_grad[-1,:].reshape(1,-1)],0)\n",
        "train_x = np.concatenate([train_x, train_x_grad],1)\n",
        "\n",
        "test_x_grad = np.diff(test_x, axis=0)\n",
        "test_x_grad = np.concatenate([test_x_grad, test_x_grad[-1,:].reshape(1,-1)],0)\n",
        "test_x = np.concatenate([test_x, test_x_grad],1)"
      ]
    },
    {
      "cell_type": "code",
      "source": [
        "train_x2 = train_x.copy()\n",
        "test_x2 = test_x.copy()\n",
        "\n",
        "b, a = butter(4, 0.1/(100/2), btype='low', analog=False)  # fs = 100 Hz, fc = 10 Hz\n",
        "filt_train_data = np.array([filtfilt(b, a, train_x[:,16+i]) for i in range(16)]).T\n",
        "train_x2[:,16:] = filt_train_data\n",
        "filt_test_data = np.array([filtfilt(b, a, test_x[:,16+i]) for i in range(16)]).T\n",
        "test_x2[:,16:] = filt_test_data\n",
        "\n",
        "import matplotlib.pyplot as plt\n",
        "\n",
        "plt.figure()\n",
        "plt.plot(train_x[:45000,0])\n",
        "plt.xlim([0, 45000])\n",
        "plt.figure()\n",
        "plt.plot(train_x[:45000,16])\n",
        "plt.xlim([0, 45000])\n",
        "plt.figure()\n",
        "plt.plot(train_x2[:45000,16])\n",
        "plt.xlim([0, 45000])"
      ],
      "metadata": {
        "colab": {
          "base_uri": "https://localhost:8080/",
          "height": 779
        },
        "id": "1viMEf3BquhI",
        "outputId": "5ce12fd4-38f0-4ea3-82dd-2c2c2293e467"
      },
      "execution_count": null,
      "outputs": [
        {
          "output_type": "execute_result",
          "data": {
            "text/plain": [
              "[<matplotlib.lines.Line2D at 0x7f0544ee9910>]"
            ]
          },
          "metadata": {},
          "execution_count": 44
        },
        {
          "output_type": "display_data",
          "data": {
            "text/plain": [
              "<Figure size 432x288 with 1 Axes>"
            ],
            "image/png": "[encoded data removed]"
          },
          "metadata": {
            "needs_background": "light"
          }
        },
        {
          "output_type": "display_data",
          "data": {
            "text/plain": [
              "<Figure size 432x288 with 1 Axes>"
            ],
            "image/png": "[encoded data removed]"
          },
          "metadata": {
            "needs_background": "light"
          }
        },
        {
          "output_type": "display_data",
          "data": {
            "text/plain": [
              "<Figure size 432x288 with 1 Axes>"
            ],
            "image/png": "[encoded data removed]"
          },
          "metadata": {
            "needs_background": "light"
          }
        }
      ]
    },
    {
      "cell_type": "code",
      "source": [
        "b, a = butter(4, 0.1/(100/2), btype='low', analog=False)  # fs = 100 Hz, fc = 10 Hz\n",
        "filt_train_data = np.array([filtfilt(b, a, train_x[:,16+i]) for i in range(16)]).T\n",
        "train_x[:,16:] = filt_train_data\n",
        "filt_test_data = np.array([filtfilt(b, a, test_x[:,16+i]) for i in range(16)]).T\n",
        "test_x[:,16:] = filt_test_data"
      ],
      "metadata": {
        "id": "AdoxOQ21rc-i"
      },
      "execution_count": null,
      "outputs": []
    },
    {
      "cell_type": "code",
      "source": [
        ""
      ],
      "metadata": {
        "id": "mbhrFUZyqq6a"
      },
      "execution_count": null,
      "outputs": []
    },
    {
      "cell_type": "code",
      "execution_count": null,
      "metadata": {
        "id": "7fOMYzOR2a_C"
      },
      "outputs": [],
      "source": [
        "# from sklearn.preprocessing import StandardScaler\n",
        "# scaler = StandardScaler().fit(train_x)\n",
        "# train_x = scaler.transform(train_x)\n",
        "# test_x = scaler.transform(test_x)"
      ]
    },
    {
      "cell_type": "code",
      "execution_count": null,
      "metadata": {
        "id": "Cm5vXX_r7kBE"
      },
      "outputs": [],
      "source": [
        "from sklearn.preprocessing import MinMaxScaler\n",
        "scaler = MinMaxScaler().fit(train_x)\n",
        "train_x = scaler.transform(train_x)\n",
        "test_x = scaler.transform(test_x)"
      ]
    },
    {
      "cell_type": "code",
      "execution_count": null,
      "metadata": {
        "id": "cOdO2k1z4eRv"
      },
      "outputs": [],
      "source": [
        "# split_p = int(len(train_x)*0.9)\n",
        "# train_x_t = train_x[:split_p]\n",
        "# train_y_t = train_y[:split_p]\n",
        "# train_x_v = train_x[split_p:]\n",
        "# train_y_v = train_y[split_p:]\n",
        "# 2:8로 전체 나누었을때 각각 최대한 많은 정보를 담고있는경우를 찾아야함\n",
        "# 0 11 19\n",
        "# 1 12 21\n",
        "# 2 12 20\n",
        "# 3 11 21\n",
        "# 4 11 18\n",
        "\n",
        "split_p = int(len(train_x)*0.2)\n",
        "\n",
        "train1_x = train_x[:split_p*1,:] \n",
        "train2_x = train_x[split_p*2:,:] \n",
        "train_x_t = np.concatenate([train1_x,train2_x])\n",
        "train_x_v = train_x[split_p*1:split_p*2,:]\n",
        "\n",
        "train1_y = train_y[:split_p*1] \n",
        "train2_y = train_y[split_p*2:] \n",
        "train_y_t = np.concatenate([train1_y,train2_y],)\n",
        "train_y_v = train_y[split_p*1:split_p*2]"
      ]
    },
    {
      "cell_type": "code",
      "execution_count": null,
      "metadata": {
        "id": "cFO31UiMXUiC"
      },
      "outputs": [],
      "source": [
        "def make_dataset(data, label, window_size=20):\n",
        "    feature_list = []\n",
        "    label_list = []\n",
        "    for i in range(len(data) - window_size):\n",
        "        feature_list.append(data[i:i+window_size])\n",
        "        label_list.append(label[i:i+window_size])\n",
        "    return np.array(feature_list), np.array(label_list)\n",
        "\n",
        "def make_dataset2(data, window_size=20):\n",
        "    feature_list = []\n",
        "    for i in range(len(data) - window_size):\n",
        "        feature_list.append(data[i:i+window_size])\n",
        "    return np.array(feature_list)"
      ]
    },
    {
      "cell_type": "code",
      "execution_count": null,
      "metadata": {
        "colab": {
          "base_uri": "https://localhost:8080/"
        },
        "id": "ktzYvWn2XYZe",
        "outputId": "8d9898c9-78d6-45fc-de57-a85aea2e4f70"
      },
      "outputs": [
        {
          "output_type": "stream",
          "name": "stdout",
          "text": [
            "(2691687, 32)\n",
            "(2691687,)\n",
            "(672921, 32)\n",
            "(672921,)\n",
            "(3364608, 32)\n",
            "(3364608,)\n",
            "(841653, 32)\n"
          ]
        }
      ],
      "source": [
        "# train_x_t_seq, train_y_t_seq = make_dataset(train_x_t, train_y_t, 16)\n",
        "# train_x_v_seq, train_y_v_seq = make_dataset(train_x_v, train_y_v, 16)\n",
        "# train_x_seq, train_y_seq = make_dataset(train_x, train_y, 16)\n",
        "# test_x_seq = make_dataset2(test_x, 16)\n",
        "\n",
        "train_x_t_seq, train_y_t_seq = train_x_t, train_y_t\n",
        "train_x_v_seq, train_y_v_seq = train_x_v, train_y_v\n",
        "train_x_seq, train_y_seq = train_x, train_y\n",
        "test_x_seq = test_x\n",
        "\n",
        "print(train_x_t_seq.shape)\n",
        "print(train_y_t_seq.shape)\n",
        "print(train_x_v_seq.shape)\n",
        "print(train_y_v_seq.shape)\n",
        "print(train_x_seq.shape)\n",
        "print(train_y_seq.shape)\n",
        "print(test_x_seq.shape)"
      ]
    },
    {
      "cell_type": "code",
      "execution_count": null,
      "metadata": {
        "id": "ZeQlvulfKDGG"
      },
      "outputs": [],
      "source": [
        "from keras.models import Sequential\n",
        "from keras.layers import Dense , Flatten\n",
        "from keras.callbacks import EarlyStopping, ModelCheckpoint\n",
        "from keras.layers import LSTM\n",
        "from keras.models import Sequential\n",
        "from keras import optimizers\n",
        "from keras.layers import Dense, Activation, Flatten, Conv1D, MaxPooling1D, BatchNormalization, Dropout"
      ]
    },
    {
      "cell_type": "code",
      "execution_count": null,
      "metadata": {
        "id": "UfGz-M9hFJxo"
      },
      "outputs": [],
      "source": [
        "import numpy as np\n",
        "import tensorflow as tf\n",
        "from tensorflow import keras\n",
        "from tensorflow.keras import layers\n",
        "tf.random.set_seed(0)"
      ]
    },
    {
      "cell_type": "code",
      "execution_count": null,
      "metadata": {
        "colab": {
          "base_uri": "https://localhost:8080/"
        },
        "id": "bYITnBDXFCsu",
        "outputId": "5a2e2355-c781-4a91-d62f-66b011cc5554"
      },
      "outputs": [
        {
          "output_type": "stream",
          "name": "stdout",
          "text": [
            "Model: \"sequential_14\"\n",
            "_________________________________________________________________\n",
            " Layer (type)                Output Shape              Param #   \n",
            "=================================================================\n",
            " dense_62 (Dense)            (None, 256)               8448      \n",
            "                                                                 \n",
            " dense_63 (Dense)            (None, 256)               65792     \n",
            "                                                                 \n",
            " dense_64 (Dense)            (None, 1)                 257       \n",
            "                                                                 \n",
            "=================================================================\n",
            "Total params: 74,497\n",
            "Trainable params: 74,497\n",
            "Non-trainable params: 0\n",
            "_________________________________________________________________\n"
          ]
        }
      ],
      "source": [
        "model = keras.Sequential([\n",
        "    layers.Dense(256, activation='relu', input_dim=train_x_seq.shape[1]),\n",
        "    layers.Dense(256, activation='relu'),\n",
        "    layers.Dense(1, activation='linear')\n",
        "  ])\n",
        " \n",
        "model. summary() "
      ]
    },
    {
      "cell_type": "code",
      "execution_count": null,
      "metadata": {
        "id": "6rCvW3pdHKUm"
      },
      "outputs": [],
      "source": [
        "from tensorflow.keras.optimizers import Adam\n",
        "# lr_schedule = keras.optimizers.schedules.ExponentialDecay(\n",
        "#     initial_learning_rate=0.01,\n",
        "#     decay_steps=10000,\n",
        "#     decay_rate=0.9)\n",
        "# lr_schedule = tf.keras.optimizers.schedules.CosineDecay(0.01, 40000)\n",
        "# model.compile(loss='mean_absolute_error', optimizer = Adam(learning_rate=lr_schedule), metrics=['mae'])\n",
        "model.compile(loss='mean_absolute_error', optimizer = Adam(learning_rate=0.001), metrics=['mae'])"
      ]
    },
    {
      "cell_type": "code",
      "execution_count": null,
      "metadata": {
        "colab": {
          "base_uri": "https://localhost:8080/"
        },
        "id": "cNngLcWeIjqE",
        "outputId": "26dd60f3-7fa7-4f8a-b035-998e671ddd18"
      },
      "outputs": [
        {
          "output_type": "stream",
          "name": "stdout",
          "text": [
            "(672921, 32)\n",
            "(672921,)\n"
          ]
        }
      ],
      "source": [
        "print(train_x_v_seq.shape)\n",
        "print(train_y_v.shape)"
      ]
    },
    {
      "cell_type": "code",
      "execution_count": null,
      "metadata": {
        "colab": {
          "base_uri": "https://localhost:8080/"
        },
        "id": "CwnO-U_YHw1k",
        "outputId": "1f1b7cdb-5e0b-4193-dc6f-4bed2f17811a"
      },
      "outputs": [
        {
          "output_type": "stream",
          "name": "stdout",
          "text": [
            "Epoch 1/15\n",
            "42044/42058 [============================>.] - ETA: 0s - loss: 7.4841 - mae: 7.4841\n",
            "Epoch 1: val_loss improved from inf to 6.95092, saving model to /content/tmp_checkpoint_mlp_train_shft.h5\n",
            "42058/42058 [==============================] - 113s 3ms/step - loss: 7.4829 - mae: 7.4829 - val_loss: 6.9509 - val_mae: 6.9509\n",
            "Epoch 2/15\n",
            "42040/42058 [============================>.] - ETA: 0s - loss: 3.8232 - mae: 3.8232\n",
            "Epoch 2: val_loss did not improve from 6.95092\n",
            "42058/42058 [==============================] - 111s 3ms/step - loss: 3.8240 - mae: 3.8240 - val_loss: 7.5873 - val_mae: 7.5873\n",
            "Epoch 3/15\n",
            "42038/42058 [============================>.] - ETA: 0s - loss: 3.1898 - mae: 3.1898\n",
            "Epoch 3: val_loss improved from 6.95092 to 6.49144, saving model to /content/tmp_checkpoint_mlp_train_shft.h5\n",
            "42058/42058 [==============================] - 112s 3ms/step - loss: 3.1899 - mae: 3.1899 - val_loss: 6.4914 - val_mae: 6.4914\n",
            "Epoch 4/15\n",
            "42051/42058 [============================>.] - ETA: 0s - loss: 2.8738 - mae: 2.8738\n",
            "Epoch 4: val_loss did not improve from 6.49144\n",
            "42058/42058 [==============================] - 111s 3ms/step - loss: 2.8737 - mae: 2.8737 - val_loss: 7.2615 - val_mae: 7.2615\n",
            "Epoch 5/15\n",
            "42040/42058 [============================>.] - ETA: 0s - loss: 2.6824 - mae: 2.6824\n",
            "Epoch 5: val_loss did not improve from 6.49144\n",
            "42058/42058 [==============================] - 112s 3ms/step - loss: 2.6823 - mae: 2.6823 - val_loss: 6.5888 - val_mae: 6.5888\n",
            "Epoch 6/15\n",
            "42055/42058 [============================>.] - ETA: 0s - loss: 2.5319 - mae: 2.5319\n",
            "Epoch 6: val_loss improved from 6.49144 to 6.08845, saving model to /content/tmp_checkpoint_mlp_train_shft.h5\n",
            "42058/42058 [==============================] - 113s 3ms/step - loss: 2.5319 - mae: 2.5319 - val_loss: 6.0885 - val_mae: 6.0885\n",
            "Epoch 7/15\n",
            "42051/42058 [============================>.] - ETA: 0s - loss: 2.4191 - mae: 2.4191\n",
            "Epoch 7: val_loss did not improve from 6.08845\n",
            "42058/42058 [==============================] - 112s 3ms/step - loss: 2.4193 - mae: 2.4193 - val_loss: 6.1035 - val_mae: 6.1035\n",
            "Epoch 8/15\n",
            "42054/42058 [============================>.] - ETA: 0s - loss: 2.3026 - mae: 2.3026\n",
            "Epoch 8: val_loss did not improve from 6.08845\n",
            "42058/42058 [==============================] - 112s 3ms/step - loss: 2.3028 - mae: 2.3028 - val_loss: 6.1677 - val_mae: 6.1677\n",
            "Epoch 9/15\n",
            "42052/42058 [============================>.] - ETA: 0s - loss: 2.1968 - mae: 2.1968\n",
            "Epoch 9: val_loss did not improve from 6.08845\n",
            "42058/42058 [==============================] - 112s 3ms/step - loss: 2.1968 - mae: 2.1968 - val_loss: 6.4968 - val_mae: 6.4968\n",
            "Epoch 10/15\n",
            "42046/42058 [============================>.] - ETA: 0s - loss: 2.1168 - mae: 2.1168\n",
            "Epoch 10: val_loss did not improve from 6.08845\n",
            "42058/42058 [==============================] - 113s 3ms/step - loss: 2.1169 - mae: 2.1169 - val_loss: 6.5250 - val_mae: 6.5250\n",
            "Epoch 11/15\n",
            "42057/42058 [============================>.] - ETA: 0s - loss: 2.0383 - mae: 2.0383\n",
            "Epoch 11: val_loss did not improve from 6.08845\n",
            "42058/42058 [==============================] - 112s 3ms/step - loss: 2.0382 - mae: 2.0382 - val_loss: 6.6928 - val_mae: 6.6928\n",
            "Epoch 12/15\n",
            "42049/42058 [============================>.] - ETA: 0s - loss: 1.9773 - mae: 1.9773\n",
            "Epoch 12: val_loss did not improve from 6.08845\n",
            "42058/42058 [==============================] - 112s 3ms/step - loss: 1.9775 - mae: 1.9775 - val_loss: 6.8971 - val_mae: 6.8971\n",
            "Epoch 13/15\n",
            "42056/42058 [============================>.] - ETA: 0s - loss: 1.8992 - mae: 1.8992\n",
            "Epoch 13: val_loss did not improve from 6.08845\n",
            "42058/42058 [==============================] - 114s 3ms/step - loss: 1.8993 - mae: 1.8993 - val_loss: 6.9736 - val_mae: 6.9736\n",
            "Epoch 14/15\n",
            "42037/42058 [============================>.] - ETA: 0s - loss: 1.8426 - mae: 1.8426\n",
            "Epoch 14: val_loss did not improve from 6.08845\n",
            "42058/42058 [==============================] - 118s 3ms/step - loss: 1.8429 - mae: 1.8429 - val_loss: 6.9426 - val_mae: 6.9426\n",
            "Epoch 15/15\n",
            "42056/42058 [============================>.] - ETA: 0s - loss: 1.7975 - mae: 1.7975\n",
            "Epoch 15: val_loss did not improve from 6.08845\n",
            "42058/42058 [==============================] - 115s 3ms/step - loss: 1.7975 - mae: 1.7975 - val_loss: 6.4065 - val_mae: 6.4065\n"
          ]
        }
      ],
      "source": [
        "# 일부 Data로 학습\n",
        "early_stop = EarlyStopping(monitor='val_loss', patience=10)\n",
        "\n",
        "model_path = '/content/'\n",
        "filename = os.path.join(model_path, 'tmp_checkpoint_mlp_train_shft.h5')\n",
        "checkpoint = ModelCheckpoint(filename, monitor='val_loss', verbose=1, save_best_only=True, mode='auto')\n",
        "\n",
        "history = model.fit(train_x_t_seq, train_y_t_seq,\n",
        "                    epochs=15, \n",
        "                    batch_size=64,\n",
        "                    validation_data=(train_x_v_seq, train_y_v_seq), \n",
        "                    callbacks=[early_stop, checkpoint])"
      ]
    },
    {
      "cell_type": "code",
      "execution_count": null,
      "metadata": {
        "colab": {
          "base_uri": "https://localhost:8080/"
        },
        "id": "QqhgQahMJiOD",
        "outputId": "5e0da677-a063-45b2-e8e8-5f932738ed09"
      },
      "outputs": [
        {
          "output_type": "stream",
          "name": "stdout",
          "text": [
            "(841653, 1)\n",
            "-1.8290582 552.6295\n"
          ]
        }
      ],
      "source": [
        "model.load_weights(filename)\n",
        "pred = model.predict(test_x_seq)\n",
        "print(pred.shape)\n",
        "print(pred.min(), pred.max())"
      ]
    },
    {
      "cell_type": "code",
      "execution_count": null,
      "metadata": {
        "id": "0EoXzOKLJl98"
      },
      "outputs": [],
      "source": [
        "class Y_PRED_CLASSIFIER:\n",
        "    def __init__(self, y_pred, y_real):\n",
        "        self.y_pred_clf = self.create_y_pred_clf(y_pred, y_real)\n",
        "\n",
        "    def create_y_pred_clf(self, y_pred, y_real):\n",
        "        \"\"\"\n",
        "        \"\"\"\n",
        "        from sklearn.naive_bayes import GaussianNB\n",
        "        y_pred_clf = GaussianNB().fit(y_pred.reshape(-1, 1), y_real.astype(str))\n",
        "        return y_pred_clf\n",
        "\n",
        "    def post_process_pred_ver4(self, y_pred): \n",
        "        \"\"\"\n",
        "        y_pred_clf = create_y_pred_clf(y_pred, y_real):\n",
        "        \"\"\"\n",
        "        y_pred_mapped = self.y_pred_clf.predict(y_pred.reshape(-1, 1)).astype(float)\n",
        "        return y_pred_mapped\n",
        "      "
      ]
    },
    {
      "cell_type": "code",
      "execution_count": null,
      "metadata": {
        "id": "DpYE1VT3KQF3"
      },
      "outputs": [],
      "source": [
        "pp = model.predict(train_x_seq)\n",
        "pp2 = np.pad(pp, ((0,train_y.shape[0]-pp.shape[0]),(0,0)), 'constant', constant_values=0)\n",
        "pp3 = np.squeeze(pp2)"
      ]
    },
    {
      "cell_type": "code",
      "execution_count": null,
      "metadata": {
        "id": "ZqVgzTkHMa1J"
      },
      "outputs": [],
      "source": [
        "y_pred_clf = Y_PRED_CLASSIFIER(pp3, train_y) ## create y pred clf \n",
        "y_pred = y_pred_clf.post_process_pred_ver4(pred)  # using y pred clf"
      ]
    },
    {
      "cell_type": "code",
      "execution_count": null,
      "metadata": {
        "id": "JNOZZU8qOhVP"
      },
      "outputs": [],
      "source": [
        "sample_submission = pd.read_csv('sample_solution.csv')\n",
        "y_pred2 = np.pad(y_pred, ((0,sample_submission.shape[0]-y_pred.shape[0])), 'constant', constant_values=0)\n",
        "sample_submission['CO'] = y_pred2\n",
        "sample_submission.to_csv('predicted_output.csv', index=False) \n",
        "# !kaggle competitions submit -c 2022-samsung-ds-competition-co-gas-data -f predicted_output.csv -m \"Test\""
      ]
    }
  ],
  "metadata": {
    "accelerator": "GPU",
    "colab": {
      "collapsed_sections": [],
      "machine_shape": "hm",
      "name": "gas_MLP_Fianl.ipynb",
      "provenance": [],
      "include_colab_link": true
    },
    "kernelspec": {
      "display_name": "Python 3",
      "name": "python3"
    }
  },
  "nbformat": 4,
  "nbformat_minor": 0
}